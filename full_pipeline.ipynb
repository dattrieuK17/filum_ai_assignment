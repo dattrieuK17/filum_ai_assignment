{
 "cells": [
  {
   "cell_type": "code",
   "execution_count": 1,
   "id": "e4de274d",
   "metadata": {},
   "outputs": [
    {
     "ename": "AttributeError",
     "evalue": "'MessageFactory' object has no attribute 'GetPrototype'",
     "output_type": "error",
     "traceback": [
      "\u001b[1;31m---------------------------------------------------------------------------\u001b[0m",
      "\u001b[1;31mAttributeError\u001b[0m                            Traceback (most recent call last)",
      "\u001b[1;31mAttributeError\u001b[0m: 'MessageFactory' object has no attribute 'GetPrototype'"
     ]
    },
    {
     "ename": "AttributeError",
     "evalue": "'MessageFactory' object has no attribute 'GetPrototype'",
     "output_type": "error",
     "traceback": [
      "\u001b[1;31m---------------------------------------------------------------------------\u001b[0m",
      "\u001b[1;31mAttributeError\u001b[0m                            Traceback (most recent call last)",
      "\u001b[1;31mAttributeError\u001b[0m: 'MessageFactory' object has no attribute 'GetPrototype'"
     ]
    },
    {
     "ename": "AttributeError",
     "evalue": "'MessageFactory' object has no attribute 'GetPrototype'",
     "output_type": "error",
     "traceback": [
      "\u001b[1;31m---------------------------------------------------------------------------\u001b[0m",
      "\u001b[1;31mAttributeError\u001b[0m                            Traceback (most recent call last)",
      "\u001b[1;31mAttributeError\u001b[0m: 'MessageFactory' object has no attribute 'GetPrototype'"
     ]
    },
    {
     "ename": "AttributeError",
     "evalue": "'MessageFactory' object has no attribute 'GetPrototype'",
     "output_type": "error",
     "traceback": [
      "\u001b[1;31m---------------------------------------------------------------------------\u001b[0m",
      "\u001b[1;31mAttributeError\u001b[0m                            Traceback (most recent call last)",
      "\u001b[1;31mAttributeError\u001b[0m: 'MessageFactory' object has no attribute 'GetPrototype'"
     ]
    },
    {
     "ename": "AttributeError",
     "evalue": "'MessageFactory' object has no attribute 'GetPrototype'",
     "output_type": "error",
     "traceback": [
      "\u001b[1;31m---------------------------------------------------------------------------\u001b[0m",
      "\u001b[1;31mAttributeError\u001b[0m                            Traceback (most recent call last)",
      "\u001b[1;31mAttributeError\u001b[0m: 'MessageFactory' object has no attribute 'GetPrototype'"
     ]
    },
    {
     "name": "stdout",
     "output_type": "stream",
     "text": [
      "WARNING:tensorflow:From c:\\Users\\datta\\AppData\\Local\\Programs\\Python\\Python311\\Lib\\site-packages\\tf_keras\\src\\losses.py:2976: The name tf.losses.sparse_softmax_cross_entropy is deprecated. Please use tf.compat.v1.losses.sparse_softmax_cross_entropy instead.\n",
      "\n",
      "[INFO] Using device: cuda\n",
      "[INFO] Using device: cuda\n"
     ]
    }
   ],
   "source": [
    "from utils.embedding_data import load_json, embedding_data, save_json\n",
    "from utils.create_database import create_database, insert_data_to_db\n",
    "from utils.get_relevant_feature import query, get_output\n",
    "import torch\n",
    "torch.cuda.empty_cache()"
   ]
  },
  {
   "cell_type": "code",
   "execution_count": 2,
   "id": "65de40bb",
   "metadata": {},
   "outputs": [],
   "source": [
    "# Define paths for data files\n",
    "knowledge_base_path = \"data/knowledge_base.json\"\n",
    "embedding_data_path = \"data/embedding_data.jsonl\""
   ]
  },
  {
   "cell_type": "code",
   "execution_count": 3,
   "id": "efb04d7f",
   "metadata": {},
   "outputs": [
    {
     "name": "stderr",
     "output_type": "stream",
     "text": [
      "c:\\Users\\datta\\AppData\\Local\\Programs\\Python\\Python311\\Lib\\site-packages\\transformers\\integrations\\sdpa_attention.py:81: UserWarning: 1Torch was not compiled with flash attention. (Triggered internally at ..\\aten\\src\\ATen\\native\\transformers\\cuda\\sdp_utils.cpp:455.)\n",
      "  attn_output = torch.nn.functional.scaled_dot_product_attention(\n"
     ]
    },
    {
     "name": "stdout",
     "output_type": "stream",
     "text": [
      "[INFO] Processing feature 1/5: Automated Post-Purchase Surveys\n",
      "[DEBUG] Text for embedding: Automated Post-Purchase Surveys. Design and deploy surveys across Web, Mobile, Zalo, SMS, Email, QR, POS. Trigger surveys automatically via email/SMS after a transaction. Collect customer feedback after purchase. Increase post-purchase engagement\n",
      "[DEBUG] Embedding vector length: 1024\n",
      "[INFO] Processing feature 2/5: AI Agent for FAQ & First Response\n",
      "[DEBUG] Text for embedding: AI Agent for FAQ & First Response. A streamlined contact center where human agents collaborate with AI agents. Deflects common queries and provides instant answers, freeing up human agents. Reduce support workload. Handle repetitive customer queries. Improve first response time\n",
      "[DEBUG] Embedding vector length: 1024\n",
      "[INFO] Processing feature 3/5: Customer Journey Experience Analysis\n",
      "[DEBUG] Text for embedding: Customer Journey Experience Analysis. Understand customer experiences across touchpoints and channels with detailed topic analysis. Identifies friction points by analyzing feedback and operational data across the journey. Detect friction in customer journey. Visualize customer experience trends\n",
      "[DEBUG] Embedding vector length: 1024\n",
      "[INFO] Processing feature 4/5: Customer Profile with Interaction History\n",
      "[DEBUG] Text for embedding: Customer Profile with Interaction History. Manage the entire customer base and perform segmentation. Consolidates all touchpoints and past interactions for a comprehensive view. View all customer touchpoints. Centralize interaction history. Personalize customer support\n",
      "[DEBUG] Embedding vector length: 1024\n",
      "[INFO] Processing feature 5/5: AI-Powered Topic & Sentiment Analysis for VoC\n",
      "[DEBUG] Text for embedding: AI-Powered Topic & Sentiment Analysis for VoC. Listen to and analyze chat, call, and email interactions. Understand customer experiences across touchpoints and channels with detailed topic analysis. Automatically extracts key topics and sentiment from text feedback. Monitor survey performance. Track agent productivity. Audit ticket handling efficiency\n",
      "[DEBUG] Embedding vector length: 1024\n"
     ]
    }
   ],
   "source": [
    "# Load knowledge base\n",
    "features = load_json(knowledge_base_path)\n",
    "\n",
    "# Generate embeddings\n",
    "objects = embedding_data(features)\n",
    "\n",
    "# Save to JSONL for Weaviate import\n",
    "save_json(objects, embedding_data_path)"
   ]
  },
  {
   "cell_type": "code",
   "execution_count": 4,
   "id": "37744629",
   "metadata": {},
   "outputs": [
    {
     "name": "stdout",
     "output_type": "stream",
     "text": [
      "[INFO] Collection 'Filum_AI_Features' created successfully.\n"
     ]
    }
   ],
   "source": [
    "# Create Weaviate database\n",
    "create_database()"
   ]
  },
  {
   "cell_type": "code",
   "execution_count": 5,
   "id": "ecd4d2cd",
   "metadata": {},
   "outputs": [
    {
     "name": "stdout",
     "output_type": "stream",
     "text": [
      "[INFO] Data from 'data/embedding_data.jsonl' inserted successfully.\n"
     ]
    }
   ],
   "source": [
    "# Insert data into Weaviate database\n",
    "insert_data_to_db(embedding_data_path)"
   ]
  },
  {
   "cell_type": "markdown",
   "id": "7ef4ac68",
   "metadata": {},
   "source": [
    "# Example 1:"
   ]
  },
  {
   "cell_type": "code",
   "execution_count": 6,
   "id": "98001b49",
   "metadata": {},
   "outputs": [],
   "source": [
    "torch.cuda.empty_cache()\n",
    "\n",
    "input = \"We're struggling to collect customer feedback consistently after a purchase.\""
   ]
  },
  {
   "cell_type": "code",
   "execution_count": 7,
   "id": "c97588cd",
   "metadata": {},
   "outputs": [
    {
     "name": "stdout",
     "output_type": "stream",
     "text": [
      "Input: We're struggling to collect customer feedback consistently after a purchase.\n",
      "Output: Automated Post-Purchase Surveys (VoC - Surveys) – How it helps: Trigger surveys automatically via email/SMS after a transaction.\n"
     ]
    }
   ],
   "source": [
    "output = get_output(query(input)[0])\n",
    "\n",
    "print(\"Input:\", input)\n",
    "print(\"Output:\", output)"
   ]
  },
  {
   "cell_type": "markdown",
   "id": "2d23d166",
   "metadata": {},
   "source": [
    "# Example 2:"
   ]
  },
  {
   "cell_type": "code",
   "execution_count": 8,
   "id": "69e34cee",
   "metadata": {},
   "outputs": [],
   "source": [
    "torch.cuda.empty_cache()\n",
    "\n",
    "input = \"Our support agents are overwhelmed by the high volume of repetitive questions.\""
   ]
  },
  {
   "cell_type": "code",
   "execution_count": 9,
   "id": "09812e77",
   "metadata": {},
   "outputs": [
    {
     "name": "stdout",
     "output_type": "stream",
     "text": [
      "Input: Our support agents are overwhelmed by the high volume of repetitive questions.\n",
      "Output: AI Agent for FAQ & First Response (AI Customer Service - AI Inbox) – How it helps: Deflects common queries and provides instant answers, freeing up human agents.\n"
     ]
    }
   ],
   "source": [
    "output = get_output(query(input)[0])\n",
    "\n",
    "print(\"Input:\", input)\n",
    "print(\"Output:\", output)"
   ]
  },
  {
   "cell_type": "markdown",
   "id": "a6bfe0ba",
   "metadata": {},
   "source": [
    "# Example 3:"
   ]
  },
  {
   "cell_type": "code",
   "execution_count": 10,
   "id": "3fccf2b7",
   "metadata": {},
   "outputs": [],
   "source": [
    "torch.cuda.empty_cache()\n",
    "\n",
    "input = \"We have no clear idea which customer touchpoints are causing the most frustration.\""
   ]
  },
  {
   "cell_type": "code",
   "execution_count": 11,
   "id": "8d5c588d",
   "metadata": {},
   "outputs": [
    {
     "name": "stdout",
     "output_type": "stream",
     "text": [
      "Input: We have no clear idea which customer touchpoints are causing the most frustration.\n",
      "Output: Customer Journey Experience Analysis (Insights - Experience) – How it helps: Identifies friction points by analyzing feedback and operational data across the journey.\n"
     ]
    }
   ],
   "source": [
    "output = get_output(query(input)[0])\n",
    "\n",
    "print(\"Input:\", input)\n",
    "print(\"Output:\", output)"
   ]
  },
  {
   "cell_type": "markdown",
   "id": "8e9c35c6",
   "metadata": {},
   "source": [
    "# Example 4:"
   ]
  },
  {
   "cell_type": "code",
   "execution_count": 12,
   "id": "87f5fd1c",
   "metadata": {},
   "outputs": [],
   "source": [
    "torch.cuda.empty_cache()\n",
    "\n",
    "input = \"It's difficult to get a single view of a customer's interaction history when they contact us.\""
   ]
  },
  {
   "cell_type": "code",
   "execution_count": 13,
   "id": "c506d565",
   "metadata": {},
   "outputs": [
    {
     "name": "stdout",
     "output_type": "stream",
     "text": [
      "Input: It's difficult to get a single view of a customer's interaction history when they contact us.\n",
      "Output: Customer Profile with Interaction History (Customer 360 - Customers & AI Inbox) – How it helps: Consolidates all touchpoints and past interactions for a comprehensive view.\n"
     ]
    }
   ],
   "source": [
    "output = get_output(query(input)[0])\n",
    "\n",
    "print(\"Input:\", input)\n",
    "print(\"Output:\", output)"
   ]
  },
  {
   "cell_type": "markdown",
   "id": "6857cdf0",
   "metadata": {},
   "source": [
    "# Example 5:"
   ]
  },
  {
   "cell_type": "code",
   "execution_count": 14,
   "id": "c777604b",
   "metadata": {},
   "outputs": [],
   "source": [
    "torch.cuda.empty_cache()\n",
    "\n",
    "input = \"Manually analyzing thousands of open-ended survey responses for common themes is too time-consuming.\""
   ]
  },
  {
   "cell_type": "code",
   "execution_count": 15,
   "id": "ad7853f2",
   "metadata": {},
   "outputs": [
    {
     "name": "stdout",
     "output_type": "stream",
     "text": [
      "Input: Manually analyzing thousands of open-ended survey responses for common themes is too time-consuming.\n",
      "Output: AI-Powered Topic & Sentiment Analysis for VoC (VoC - Conversations/Surveys, Insights - Experience) – How it helps: Automatically extracts key topics and sentiment from text feedback.\n"
     ]
    }
   ],
   "source": [
    "output = get_output(query(input)[0])\n",
    "\n",
    "print(\"Input:\", input)\n",
    "print(\"Output:\", output)"
   ]
  }
 ],
 "metadata": {
  "kernelspec": {
   "display_name": ".venv",
   "language": "python",
   "name": "python3"
  },
  "language_info": {
   "codemirror_mode": {
    "name": "ipython",
    "version": 3
   },
   "file_extension": ".py",
   "mimetype": "text/x-python",
   "name": "python",
   "nbconvert_exporter": "python",
   "pygments_lexer": "ipython3",
   "version": "3.11.5"
  }
 },
 "nbformat": 4,
 "nbformat_minor": 5
}
